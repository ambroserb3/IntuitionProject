{
 "cells": [
  {
   "cell_type": "code",
   "execution_count": 4,
   "metadata": {},
   "outputs": [
    {
     "name": "stdout",
     "output_type": "stream",
     "text": [
      "Traceback (most recent call last):\n",
      "  File \"/home/ec2-user/anaconda3/envs/pytorch_p36/bin/pip3\", line 7, in <module>\n",
      "    from pip._internal import main\n",
      "  File \"/home/ec2-user/anaconda3/envs/pytorch_p36/lib/python3.6/site-packages/pip/_internal/__init__.py\", line 42, in <module>\n",
      "    from pip._internal import cmdoptions\n",
      "  File \"/home/ec2-user/anaconda3/envs/pytorch_p36/lib/python3.6/site-packages/pip/_internal/cmdoptions.py\", line 16, in <module>\n",
      "    from pip._internal.index import (\n",
      "  File \"/home/ec2-user/anaconda3/envs/pytorch_p36/lib/python3.6/site-packages/pip/_internal/index.py\", line 15, in <module>\n",
      "    from pip._vendor import html5lib, requests, six\n",
      "  File \"/home/ec2-user/anaconda3/envs/pytorch_p36/lib/python3.6/site-packages/pip/_vendor/requests/__init__.py\", line 100, in <module>\n",
      "    from . import packages\n",
      "  File \"/home/ec2-user/anaconda3/envs/pytorch_p36/lib/python3.6/site-packages/pip/_vendor/requests/packages.py\", line 8, in <module>\n",
      "    locals()[package] = __import__(vendored_package)\n",
      "  File \"/home/ec2-user/anaconda3/envs/pytorch_p36/lib/python3.6/site-packages/pip/_vendor/idna/__init__.py\", line 2, in <module>\n",
      "    from .core import *\n",
      "  File \"/home/ec2-user/anaconda3/envs/pytorch_p36/lib/python3.6/site-packages/pip/_vendor/idna/core.py\", line 3, in <module>\n",
      "    import unicodedata\n",
      "ImportError: /home/ec2-user/anaconda3/envs/pytorch_p36/lib/python3.6/lib-dynload/unicodedata.cpython-36m-x86_64-linux-gnu.so: failed to map segment from shared object: Cannot allocate memory\n"
     ]
    }
   ],
   "source": [
    "!pip3 install fast_bert"
   ]
  },
  {
   "cell_type": "code",
   "execution_count": null,
   "metadata": {},
   "outputs": [],
   "source": [
    "from fast_bert.data_cls import BertDataBunch\n",
    "from fast_bert.learner_cls import BertLearner\n",
    "from fast_bert.metrics import accuracy\n",
    "import logging\n",
    "from fast_bert.prediction import BertClassificationPredictor\n",
    "import torch\n",
    "\n",
    "logger = logging.getLogger()\n",
    "device = 'cuda' if torch.cuda.is_available() else 'cpu'\n",
    "if torch.cuda.device_count() > 1:\n",
    "    multi_gpu = True\n",
    "else:\n",
    "    multi_gpu = False\n",
    "\n",
    "\n",
    "metrics = [{'name': 'accuracy', 'function': accuracy}]\n",
    "\n",
    "OUTPUT_DIR = \"Model_Artifacts\"\n",
    "DATA_PATH = \"Data\"\n",
    "LABEL_PATH = \"labels\" \n",
    "\n",
    "### Dataloading\n",
    "databunch = BertDataBunch(DATA_PATH, LABEL_PATH,\n",
    "                          tokenizer='xlnet-base-cased',\n",
    "                          train_file='train.csv',\n",
    "                          val_file='val.csv',\n",
    "                          label_file='labels.csv',\n",
    "                          text_col='questionText',\n",
    "                          label_col='TherapyPersona',\n",
    "                          batch_size_per_gpu=4,\n",
    "                          max_seq_length=512,\n",
    "                          multi_gpu=multi_gpu,\n",
    "                          multi_label=False,\n",
    "                          model_type='xlnet')\n",
    "\n",
    "### Learner Creation\n",
    "learner = BertLearner.from_pretrained_model(\n",
    "\t\t\t\t\t\tdatabunch,\n",
    "\t\t\t\t\t\tpretrained_path='pytorchdump',\n",
    "\t\t\t\t\t\tmetrics=metrics,\n",
    "\t\t\t\t\t\tdevice=device,\n",
    "\t\t\t\t\t\tlogger=logger,\n",
    "\t\t\t\t\t\toutput_dir=OUTPUT_DIR,\n",
    "\t\t\t\t\t\tfinetuned_wgts_path=None,\n",
    "\t\t\t\t\t\twarmup_steps=500,\n",
    "\t\t\t\t\t\tmulti_gpu=multi_gpu,\n",
    "\t\t\t\t\t\tis_fp16=False,\n",
    "\t\t\t\t\t\tmulti_label=False,\n",
    "\t\t\t\t\t\tlogging_steps=50)\n",
    "\n",
    "### Train and Save\n",
    "learner.fit(epochs=2,\n",
    "\t\t\tlr=6e-5,\n",
    "\t\t\tvalidate=True, \t# Evaluate the model after each epoch\n",
    "\t\t\tschedule_type=\"warmup_cosine\",\n",
    "\t\t\toptimizer_type=\"adamw\")\n",
    "\n",
    "learner.save_model()\n",
    "\n",
    "\n",
    "### Inference\n",
    "texts = ['this is a test','I sure love tests']\n",
    "predictions = learner.predict_batch(texts)\n"
   ]
  }
 ],
 "metadata": {
  "environment": {
   "name": "common-cpu.m47",
   "type": "gcloud",
   "uri": "gcr.io/deeplearning-platform-release/base-cpu:m47"
  },
  "kernelspec": {
   "display_name": "Python 3",
   "language": "python",
   "name": "python3"
  },
  "language_info": {
   "codemirror_mode": {
    "name": "ipython",
    "version": 3
   },
   "file_extension": ".py",
   "mimetype": "text/x-python",
   "name": "python",
   "nbconvert_exporter": "python",
   "pygments_lexer": "ipython3",
   "version": "3.7.6"
  }
 },
 "nbformat": 4,
 "nbformat_minor": 4
}
