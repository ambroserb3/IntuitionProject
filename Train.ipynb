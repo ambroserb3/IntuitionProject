{
 "cells": [
  {
   "cell_type": "code",
   "execution_count": 1,
   "metadata": {},
   "outputs": [],
   "source": [
    "# !pip3 install simpletransformers\n",
    "# !pip3 install torch\n",
    "# !pip3 install torchvision"
   ]
  },
  {
   "cell_type": "code",
   "execution_count": null,
   "metadata": {},
   "outputs": [
    {
     "data": {
      "application/vnd.jupyter.widget-view+json": {
       "model_id": "2d3a54d3168c4d93bc7c43f6ca4d5b54",
       "version_major": 2,
       "version_minor": 0
      },
      "text/plain": [
       "HBox(children=(FloatProgress(value=0.0, max=1.0), HTML(value='')))"
      ]
     },
     "metadata": {},
     "output_type": "display_data"
    },
    {
     "name": "stdout",
     "output_type": "stream",
     "text": [
      "\n"
     ]
    },
    {
     "data": {
      "application/vnd.jupyter.widget-view+json": {
       "model_id": "ddd5619b03ef4071a1161c25245ceb76",
       "version_major": 2,
       "version_minor": 0
      },
      "text/plain": [
       "HBox(children=(FloatProgress(value=0.0, description='Epoch', max=5.0, style=ProgressStyle(description_width='i…"
      ]
     },
     "metadata": {},
     "output_type": "display_data"
    },
    {
     "data": {
      "application/vnd.jupyter.widget-view+json": {
       "model_id": "98d2c0f1e0c24e08bef92ca459a46c50",
       "version_major": 2,
       "version_minor": 0
      },
      "text/plain": [
       "HBox(children=(FloatProgress(value=0.0, description='Current iteration', max=13.0, style=ProgressStyle(descrip…"
      ]
     },
     "metadata": {},
     "output_type": "display_data"
    },
    {
     "name": "stdout",
     "output_type": "stream",
     "text": [
      "Running loss: 208.436417"
     ]
    },
    {
     "name": "stderr",
     "output_type": "stream",
     "text": [
      "/pytorch/torch/csrc/utils/python_arg_parser.cpp:756: UserWarning: This overload of add_ is deprecated:\n",
      "\tadd_(Number alpha, Tensor other)\n",
      "Consider using one of the following signatures instead:\n",
      "\tadd_(Tensor other, *, Number alpha)\n"
     ]
    },
    {
     "name": "stdout",
     "output_type": "stream",
     "text": [
      "Running loss: 113.562569"
     ]
    },
    {
     "name": "stderr",
     "output_type": "stream",
     "text": [
      "/opt/conda/lib/python3.7/site-packages/torch/optim/lr_scheduler.py:231: UserWarning: To get the last learning rate computed by the scheduler, please use `get_last_lr()`.\n",
      "  warnings.warn(\"To get the last learning rate computed by the scheduler, \"\n"
     ]
    },
    {
     "name": "stdout",
     "output_type": "stream",
     "text": [
      "Running loss: 11.670158\n"
     ]
    }
   ],
   "source": [
    "from simpletransformers.conv_ai import ConvAIModel\n",
    "\n",
    "train_args={\n",
    "    'reprocess_input_data': True,\n",
    "    'overwrite_output_dir': True,\n",
    "    'evaluate_during_training': True,\n",
    "    'logging_steps': 5,\n",
    "    \"num_candidates\": 1,\n",
    "    \"personality_permutations\": 1,\n",
    "    \"max_history\": 2,\n",
    "    \"lm_coef\": 2.0,\n",
    "    \"mc_coef\": 1.0,\n",
    "    \"no_sample\": False,\n",
    "    \"max_length\": 20000,\n",
    "    \"min_length\": 1,\n",
    "    'num_train_epochs': 5,\n",
    "}\n",
    "\n",
    "\n",
    "def TrainEmotionPersona():\n",
    "\tmodel = ConvAIModel(\"gpt2\", \"gpt2\", use_cuda=False, args=train_args)\n",
    "\tmodel.train_model(\"Data/EmotionPersona.json\", output_dir=\"EmotionModel\", eval_file=\"Data/EmotionPersonaTest\")\n",
    "\tmodel.eval_model()\n",
    "\t# model.interact()\n",
    " \n",
    "def TrainExperentialPersona():\n",
    "    model = ConvAIModel(\"gpt2\", \"gpt2\", use_cuda=False, args=train_args)\n",
    "    model.train_model(\"Data/ExperentialPersona.json\", output_dir=\"ExpModel\", eval_file=\"Data/ExperentialPersonaTest\")\n",
    "    model.eval_model()\n",
    "\t# model.interact()\n",
    "\n",
    "TrainEmotionPersona()\n",
    "TrainExperentialPersona()"
   ]
  },
  {
   "cell_type": "code",
   "execution_count": null,
   "metadata": {},
   "outputs": [],
   "source": []
  }
 ],
 "metadata": {
  "environment": {
   "name": "common-cpu.m47",
   "type": "gcloud",
   "uri": "gcr.io/deeplearning-platform-release/base-cpu:m47"
  },
  "kernelspec": {
   "display_name": "Python 3",
   "language": "python",
   "name": "python3"
  },
  "language_info": {
   "codemirror_mode": {
    "name": "ipython",
    "version": 3
   },
   "file_extension": ".py",
   "mimetype": "text/x-python",
   "name": "python",
   "nbconvert_exporter": "python",
   "pygments_lexer": "ipython3",
   "version": "3.7.6"
  }
 },
 "nbformat": 4,
 "nbformat_minor": 4
}
