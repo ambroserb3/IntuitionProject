{
 "cells": [
  {
   "cell_type": "code",
   "execution_count": 1,
   "metadata": {},
   "outputs": [
    {
     "name": "stderr",
     "output_type": "stream",
     "text": [
      "[nltk_data] Downloading package punkt to /home/jupyter/nltk_data...\n",
      "[nltk_data]   Package punkt is already up-to-date!\n",
      "[nltk_data] Downloading package averaged_perceptron_tagger to\n",
      "[nltk_data]     /home/jupyter/nltk_data...\n",
      "[nltk_data]   Package averaged_perceptron_tagger is already up-to-\n",
      "[nltk_data]       date!\n"
     ]
    }
   ],
   "source": [
    "### This is the main module of the inference pipeline. ###\n",
    "\n",
    "from Extraction import extraction\n",
    "from filterPersona import AssignTherapyPersona\n",
    "from simpletransformers.conv_ai import ConvAIModel"
   ]
  },
  {
   "cell_type": "code",
   "execution_count": null,
   "metadata": {},
   "outputs": [],
   "source": [
    "def InferencePipeline(user_input):\n",
    "    ''' \n",
    "    This pipeline uses a trained xlnet model for inferring the chat persona type.\n",
    "    Then interacts with that chatbot persona, trained on counsel chats dataset\n",
    "    Arguments\n",
    "    -user_input: this is text that is raw_input from the user\n",
    "    '''    \n",
    "    #Load models\n",
    "    emotionPersona = ConvAIModel(\"gpt2\", \"EmotionModel/checkpoint-3-epoch-1\", use_cuda=False)\n",
    "    experentialPersona = ConvAIModel(\"gpt2\", \"ExpModel/checkpoint-3-epoch-1\", use_cuda=False)\n",
    "    print(\"Now that I understand the problem I can send you to right chatbot to help\")\n",
    " \n",
    "    #Prep data\n",
    "    extractedText = extraction(user_input)\n",
    "    \n",
    "    #Make chat therapy persona type prediction with other model\n",
    "    PersonaType = AssignTherapyPersona(extractedText)\n",
    "\n",
    "    #Feed into Therapy Persona Conversational Ai Model\n",
    "    if PersonaType == \"Emotion\":\n",
    "        print(\"Hi I'm the chatbot that can help with emotional issues, how can I help?\")\n",
    "        emotionPersona.interact()\n",
    "    else:\n",
    "        print(\"Hi I'm the chatbot that can help with situational issues, how can I help?\")\n",
    "        experentialPersona.interact()\n"
   ]
  },
  {
   "cell_type": "code",
   "execution_count": null,
   "metadata": {},
   "outputs": [
    {
     "name": "stdin",
     "output_type": "stream",
     "text": [
      "Hi, how can I help? im upset about a situation at work\n"
     ]
    },
    {
     "name": "stdout",
     "output_type": "stream",
     "text": [
      "Finished loading models, now prepping\n"
     ]
    },
    {
     "name": "stderr",
     "output_type": "stream",
     "text": [
      "/opt/conda/lib/python3.7/site-packages/torch/nn/functional.py:1558: UserWarning: nn.functional.tanh is deprecated. Use torch.tanh instead.\n",
      "  warnings.warn(\"nn.functional.tanh is deprecated. Use torch.tanh instead.\")\n"
     ]
    },
    {
     "name": "stdin",
     "output_type": "stream",
     "text": [
      ">>>  im upset about at situation at work\n"
     ]
    },
    {
     "name": "stderr",
     "output_type": "stream",
     "text": [
      "/opt/conda/lib/python3.7/site-packages/simpletransformers/conv_ai/conv_ai_model.py:863: UserWarning: Warning: model generating special token with probability 1.\n",
      "  warnings.warn(\"Warning: model generating special token with probability 1.\")\n"
     ]
    },
    {
     "name": "stdout",
     "output_type": "stream",
     "text": [
      "\n"
     ]
    }
   ],
   "source": [
    "user_input = input(\"Hi, how can I help?\") \n",
    "InferencePipeline(user_input)"
   ]
  }
 ],
 "metadata": {
  "environment": {
   "name": "common-cpu.m47",
   "type": "gcloud",
   "uri": "gcr.io/deeplearning-platform-release/base-cpu:m47"
  },
  "kernelspec": {
   "display_name": "Python 3",
   "language": "python",
   "name": "python3"
  },
  "language_info": {
   "codemirror_mode": {
    "name": "ipython",
    "version": 3
   },
   "file_extension": ".py",
   "mimetype": "text/x-python",
   "name": "python",
   "nbconvert_exporter": "python",
   "pygments_lexer": "ipython3",
   "version": "3.7.6"
  }
 },
 "nbformat": 4,
 "nbformat_minor": 4
}
