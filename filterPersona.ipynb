{
 "cells": [
  {
   "cell_type": "code",
   "execution_count": 22,
   "metadata": {},
   "outputs": [
    {
     "name": "stdout",
     "output_type": "stream",
     "text": [
      "Emotion\n"
     ]
    }
   ],
   "source": [
    "### This module takes the input sentence and uses a language model to assign it to one of our chat therapy personas.\n",
    "from fast_bert.prediction import BertClassificationPredictor\n",
    "\n",
    "MODEL_PATH = 'Model_Artifacts/model_out'\n",
    "LABEL_PATH = \"labels\"\n",
    "\n",
    "def AssignTherapyPersona(text):\n",
    "    predictor = BertClassificationPredictor(\n",
    "                    model_path=MODEL_PATH,\n",
    "                    label_path=LABEL_PATH, # location for labels.csv file\n",
    "                    multi_label=False,\n",
    "                    model_type='xlnet',\n",
    "                    do_lower_case=False)\n",
    "\n",
    "    # Single prediction\n",
    "    prediction = predictor.predict(text)\n",
    "\n",
    "    return prediction[0][0]\n",
    "\n",
    "### Unit Test ###\n",
    "test = AssignTherapyPersona(\"hey I'm feeling a bit sad and depressed\")\n",
    "print(test)\n",
    "    ###Example output####\n",
    "#     [('Emotion', 0.6595598459243774), ('Experiential', 0.34044015407562256)]"
   ]
  },
  {
   "cell_type": "code",
   "execution_count": null,
   "metadata": {},
   "outputs": [],
   "source": []
  }
 ],
 "metadata": {
  "environment": {
   "name": "common-cpu.m47",
   "type": "gcloud",
   "uri": "gcr.io/deeplearning-platform-release/base-cpu:m47"
  },
  "kernelspec": {
   "display_name": "Python 3",
   "language": "python",
   "name": "python3"
  },
  "language_info": {
   "codemirror_mode": {
    "name": "ipython",
    "version": 3
   },
   "file_extension": ".py",
   "mimetype": "text/x-python",
   "name": "python",
   "nbconvert_exporter": "python",
   "pygments_lexer": "ipython3",
   "version": "3.7.6"
  }
 },
 "nbformat": 4,
 "nbformat_minor": 4
}
