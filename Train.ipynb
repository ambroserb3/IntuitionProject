{
 "cells": [
  {
   "cell_type": "code",
   "execution_count": 1,
   "metadata": {},
   "outputs": [],
   "source": [
    "# !pip3 install simpletransformers\n",
    "# !pip3 install torch\n",
    "# !pip3 install torchvision"
   ]
  },
  {
   "cell_type": "code",
   "execution_count": null,
   "metadata": {},
   "outputs": [],
   "source": [
    "from simpletransformers.conv_ai import ConvAIModel\n",
    "\n",
    "train_args={\n",
    "    'reprocess_input_data': True,\n",
    "    'overwrite_output_dir': True,\n",
    "    'evaluate_during_training': True,\n",
    "    'logging_steps': 1,\n",
    "    \"num_candidates\": 1,\n",
    "    \"personality_permutations\": 1,\n",
    "    \"max_history\": 2,\n",
    "    \"lm_coef\": 2.0,\n",
    "    \"mc_coef\": 1.0,\n",
    "    \"no_sample\": False,\n",
    "    \"max_length\": 500,\n",
    "    \"min_length\": 1,\n",
    "    'num_train_epochs': 2,\n",
    "}\n",
    "\n",
    "\n",
    "def TrainEmotionPersona():\n",
    "\tmodel = ConvAIModel(\"gpt2\", \"gpt2\", use_cuda=False, args=train_args)\n",
    "\tmodel.train_model(\"Data/EmotionPersona.json\", output_dir=\"EmotionModel\", eval_file=\"Data/EmotionPersonaTest\")\n",
    "\tmodel.eval_model()\n",
    "\t# model.interact()\n",
    " \n",
    "def TrainExperentialPersona():\n",
    "    model = ConvAIModel(\"gpt2\", \"gpt2\", use_cuda=False, args=train_args)\n",
    "    model.train_model(\"Data/ExperentialPersona.json\", output_dir=\"ExpModel\", eval_file=\"Data/ExperentialPersonaTest\")\n",
    "    model.eval_model()\n",
    "\t# model.interact()\n",
    "\n",
    "TrainEmotionPersona()\n",
    "TrainExperentialPersona()"
   ]
  },
  {
   "cell_type": "code",
   "execution_count": null,
   "metadata": {},
   "outputs": [],
   "source": []
  }
 ],
 "metadata": {
  "environment": {
   "name": "common-cpu.m47",
   "type": "gcloud",
   "uri": "gcr.io/deeplearning-platform-release/base-cpu:m47"
  },
  "kernelspec": {
   "display_name": "Python 3",
   "language": "python",
   "name": "python3"
  },
  "language_info": {
   "codemirror_mode": {
    "name": "ipython",
    "version": 3
   },
   "file_extension": ".py",
   "mimetype": "text/x-python",
   "name": "python",
   "nbconvert_exporter": "python",
   "pygments_lexer": "ipython3",
   "version": "3.7.6"
  }
 },
 "nbformat": 4,
 "nbformat_minor": 4
}
